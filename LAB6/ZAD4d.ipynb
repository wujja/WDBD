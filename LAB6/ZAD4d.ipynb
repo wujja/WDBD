{
 "cells": [
  {
   "cell_type": "code",
   "execution_count": 65,
   "metadata": {},
   "outputs": [
    {
     "name": "stdout",
     "output_type": "stream",
     "text": [
      "[1999452, 1348461, 634810, 2078993, 1000606, 497110]\n",
      "[[497110, 634810, 1000606, 1348461, 1999452, 2078993], 1174533.5]\n"
     ]
    }
   ],
   "source": [
    "from multiprocessing import Pool\n",
    "from functools import reduce\n",
    "import random\n",
    "\n",
    "\n",
    "def random_list(n):\n",
    "    random_list =[]\n",
    "    for i in range(0,n):\n",
    "        number = random.randint(1, 2234523)\n",
    "        random_list.append(number)\n",
    "    return random_list\n",
    "\n",
    "list_list = random_list(6)\n",
    "print(list_list)\n",
    "\n",
    "def return1(number):\n",
    "    return 1\n",
    "#list_list = [2,3,4,5,6,7,8,9]\n",
    "\n",
    "def reducer(a,b):\n",
    "    final_list = a\n",
    "    final_list[0].extend(b[0])\n",
    "    final_list[0].sort()\n",
    "    return [final_list[0], my_median(final_list[0])]\n",
    "\n",
    "def chunkity(dane, liczba_chunks):\n",
    "    return(dane[i::liczba_chunks] for i in range(liczba_chunks))\n",
    "\n",
    "def my_median(list_to_sort):\n",
    "    n = len(list_to_sort)\n",
    "    if(n%2==0):\n",
    "        return (list_to_sort[int(n/2 -1)] + list_to_sort[int(n/2)])/2\n",
    "    else:\n",
    "        return list_to_sort[int(n/2)]\n",
    "\n",
    "\n",
    "def chunks_mapped(chunk):\n",
    "    mapped_chunk = [chunk, None]\n",
    "    return mapped_chunk\n",
    "\n",
    "data_chunk = chunkity(list_list, 4)\n",
    "\n",
    "pool = Pool(4)\n",
    "\n",
    "mapped = pool.map(chunks_mapped, data_chunk)\n",
    "\n",
    "reduced = reduce(reducer, mapped)\n",
    "\n",
    "print(reduced)\n"
   ]
  },
  {
   "cell_type": "code",
   "execution_count": 62,
   "metadata": {},
   "outputs": [
    {
     "data": {
      "text/plain": [
       "5.0"
      ]
     },
     "execution_count": 62,
     "metadata": {},
     "output_type": "execute_result"
    }
   ],
   "source": [
    "#notatki\n",
    "intidzer = [1,2,1]\n",
    "ddd = ['s','s','s']\n",
    "intidzer2= [2,6,6,4]\n",
    "mapped2 =  chunks_mapped(intidzer)\n",
    "mapped3 = chunks_mapped(intidzer2)\n",
    "#mapped2[0].extend(mapped3[0])\n",
    "#reducer(mapped2,mapped3)\n",
    "#print(mapped2,mapped3)\n",
    "mapped2[0]\n",
    "final_list = mapped2\n",
    "final_list[0].extend(mapped3[0])\n",
    "\n",
    "final_list[0].sort()\n",
    "final_list\n",
    "my_median( final_list[0])\n",
    "intidzer2.sort()\n",
    "my_median(intidzer2)"
   ]
  }
 ],
 "metadata": {
  "interpreter": {
   "hash": "916dbcbb3f70747c44a77c7bcd40155683ae19c65e1c03b4aa3499c5328201f1"
  },
  "kernelspec": {
   "display_name": "Python 3.8.10 64-bit",
   "language": "python",
   "name": "python3"
  },
  "language_info": {
   "codemirror_mode": {
    "name": "ipython",
    "version": 3
   },
   "file_extension": ".py",
   "mimetype": "text/x-python",
   "name": "python",
   "nbconvert_exporter": "python",
   "pygments_lexer": "ipython3",
   "version": "3.8.10"
  },
  "orig_nbformat": 4
 },
 "nbformat": 4,
 "nbformat_minor": 2
}

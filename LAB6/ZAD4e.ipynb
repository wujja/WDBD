{
 "cells": [
  {
   "cell_type": "code",
   "execution_count": 15,
   "metadata": {},
   "outputs": [
    {
     "name": "stdout",
     "output_type": "stream",
     "text": [
      "[9, 9, 8, 8, 10, 1, 7, 7, 9, 1, 6, 3, 7, 3, 1, 4, 6, 8, 8, 8]\n",
      "[9, 10, 7, 6, 1, 3, 8, 4]\n"
     ]
    },
    {
     "data": {
      "text/plain": [
       "8"
      ]
     },
     "execution_count": 15,
     "metadata": {},
     "output_type": "execute_result"
    }
   ],
   "source": [
    "from multiprocessing import Pool\n",
    "from functools import reduce\n",
    "import time\n",
    "from operator import itemgetter\n",
    "import random\n",
    "\n",
    "start = time.process_time()\n",
    "\n",
    "def random_list(n):\n",
    "    random_list =[]\n",
    "    for i in range(0,n):\n",
    "        number = random.randint(1, 10)\n",
    "        random_list.append(number)\n",
    "    return random_list\n",
    "\n",
    "list_list = random_list(20)\n",
    "print(list_list)\n",
    "\n",
    "def return1(words):\n",
    "    return 1\n",
    "\n",
    "mapper = return1\n",
    "\n",
    "def reducer(a, b):\n",
    "    if(type(a) is not list):\n",
    "        a = [a]\n",
    "    if(type(b) is not list):\n",
    "        b = [b]\n",
    "    final_list = a\n",
    "    for item_second in b:\n",
    "        if(item_second not in final_list):\n",
    "            final_list.append(item_second)\n",
    "    return final_list\n",
    "\n",
    "def chunkity(dane, liczba_chunks):\n",
    "    return(dane[i::liczba_chunks] for i in range(liczba_chunks))\n",
    "\n",
    "\n",
    "def chunks_mapper(chunk):\n",
    "    return reduce(reducer, chunk)\n",
    "\n",
    "data_chuck = chunkity(list_list, 4)\n",
    "\n",
    "\n",
    "pool = Pool(4)\n",
    "\n",
    "\n",
    "mapped = pool.map(chunks_mapper, data_chuck)\n",
    "\n",
    "reduced = reduce(reducer, mapped)\n",
    "print(reduced)\n",
    "len(reduced)\n"
   ]
  },
  {
   "cell_type": "code",
   "execution_count": 7,
   "metadata": {},
   "outputs": [
    {
     "data": {
      "text/plain": [
       "[1, 2, 4, 3]"
      ]
     },
     "execution_count": 7,
     "metadata": {},
     "output_type": "execute_result"
    }
   ],
   "source": [
    "list1 = [1,2,4]\n",
    "list2 = [2,3,4]\n",
    "reducer(list1,list2)\n"
   ]
  }
 ],
 "metadata": {
  "interpreter": {
   "hash": "916dbcbb3f70747c44a77c7bcd40155683ae19c65e1c03b4aa3499c5328201f1"
  },
  "kernelspec": {
   "display_name": "Python 3.8.10 64-bit",
   "language": "python",
   "name": "python3"
  },
  "language_info": {
   "codemirror_mode": {
    "name": "ipython",
    "version": 3
   },
   "file_extension": ".py",
   "mimetype": "text/x-python",
   "name": "python",
   "nbconvert_exporter": "python",
   "pygments_lexer": "ipython3",
   "version": "3.8.10"
  },
  "orig_nbformat": 4
 },
 "nbformat": 4,
 "nbformat_minor": 2
}

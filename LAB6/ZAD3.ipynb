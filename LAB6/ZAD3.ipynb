{
 "cells": [
  {
   "cell_type": "code",
   "execution_count": 13,
   "metadata": {},
   "outputs": [
    {
     "name": "stdout",
     "output_type": "stream",
     "text": [
      "[['a', 7], ['t', 2], ['l', 2], ['k', 2], ['m', 2], ['e', 1], ['o', 2]]\n"
     ]
    }
   ],
   "source": [
    "from multiprocessing import Pool\n",
    "from functools import reduce\n",
    "string_to_count = \"Ala ma kota, a kot ma ale\"\n",
    "string_to_count = list(string_to_count)\n",
    "string_to_count = [char.lower() for char in string_to_count if char.isalnum()]\n",
    "\n",
    "def count_letter(word):\n",
    "    return 1\n",
    "\n",
    "mapper = count_letter\n",
    "\n",
    "def reducer(a, b):\n",
    "    final_list = []\n",
    "    second_list = []\n",
    "    if(type(a[0]) is not list):\n",
    "        final_list.append(a)\n",
    "    else:\n",
    "        final_list = a\n",
    "    if(type(b[0]) is not list):\n",
    "        second_list.append(b)\n",
    "    else:\n",
    "        second_list = b\n",
    "    for item_second in second_list:\n",
    "        not_in_list = True\n",
    "        for item_f in final_list:\n",
    "            if(item_second[0] in item_f):\n",
    "                item_f[1] += item_second[1]\n",
    "                not_in_list = False\n",
    "                break\n",
    "        if(not_in_list):\n",
    "            final_list.append(item_second)\n",
    "    return final_list\n",
    "\n",
    "def chunkity(dane, liczba_chunks):\n",
    "    return(dane[i::liczba_chunks] for i in range(liczba_chunks))\n",
    "\n",
    "def chunks_mapper(chunk):\n",
    "    mapped_chunk = map(mapper, chunk)\n",
    "    mapped_chunk = list(map(list,zip(chunk, mapped_chunk)))\n",
    "    return reduce(reducer, mapped_chunk)\n",
    "\n",
    "data_chuck = chunkity(string_to_count, 4)\n",
    "pool = Pool(4)\n",
    "\n",
    "mapped = pool.map(chunks_mapper, data_chuck)\n",
    "\n",
    "reduced = reduce(reducer, mapped)\n",
    "\n",
    "print(reduced)"
   ]
  },
  {
   "cell_type": "code",
   "execution_count": 8,
   "metadata": {},
   "outputs": [
    {
     "data": {
      "text/plain": [
       "['a',\n",
       " 'l',\n",
       " 'a',\n",
       " 'm',\n",
       " 'a',\n",
       " 'k',\n",
       " 'o',\n",
       " 't',\n",
       " 'a',\n",
       " 'a',\n",
       " 'k',\n",
       " 'o',\n",
       " 't',\n",
       " 'm',\n",
       " 'a',\n",
       " 'a',\n",
       " 'l',\n",
       " 'e']"
      ]
     },
     "execution_count": 8,
     "metadata": {},
     "output_type": "execute_result"
    }
   ],
   "source": [
    "string_to_count = \"Ala ma kota, a kot ma ale\"\n",
    "string_to_count = list(string_to_count)\n",
    "tring_to_count = [char.lower() for char in string_to_count if char.isalnum()]\n",
    "tring_to_count"
   ]
  }
 ],
 "metadata": {
  "interpreter": {
   "hash": "916dbcbb3f70747c44a77c7bcd40155683ae19c65e1c03b4aa3499c5328201f1"
  },
  "kernelspec": {
   "display_name": "Python 3.8.10 64-bit",
   "language": "python",
   "name": "python3"
  },
  "language_info": {
   "codemirror_mode": {
    "name": "ipython",
    "version": 3
   },
   "file_extension": ".py",
   "mimetype": "text/x-python",
   "name": "python",
   "nbconvert_exporter": "python",
   "pygments_lexer": "ipython3",
   "version": "3.8.10"
  },
  "orig_nbformat": 4
 },
 "nbformat": 4,
 "nbformat_minor": 2
}

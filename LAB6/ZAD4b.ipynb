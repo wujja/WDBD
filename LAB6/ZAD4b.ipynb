{
 "cells": [
  {
   "cell_type": "code",
   "execution_count": 2,
   "metadata": {},
   "outputs": [
    {
     "name": "stdout",
     "output_type": "stream",
     "text": [
      "(1001756.9, 20)\n"
     ]
    }
   ],
   "source": [
    "from multiprocessing import Pool\n",
    "from functools import reduce\n",
    "import random\n",
    "\n",
    "def random_list(n):\n",
    "    random_list =[]\n",
    "    for i in range(0,n):\n",
    "        number = random.randint(1, 2234523)\n",
    "        random_list.append(number)\n",
    "    return random_list\n",
    "\n",
    "list_list = random_list(20)\n",
    "\n",
    "def return1(number):\n",
    "    return 1\n",
    "#list_list = [2,3,4,5,6,7,8,9]\n",
    "def reducer(a, b): \n",
    "    how_many_numbers = a[1] + b[1]\n",
    "    return ((a[0]*a[1] + b[0]*b[1])/how_many_numbers, how_many_numbers)\n",
    "\n",
    "def chunkity(dane, liczba_chunks):\n",
    "    return(dane[i::liczba_chunks] for i in range(liczba_chunks))\n",
    "\n",
    "mapper = return1\n",
    "\n",
    "def chunks_mapped(chunk):\n",
    "    mapped_chunk = map(mapper, chunk)\n",
    "    mapped_chunk = zip(chunk, mapped_chunk)\n",
    "    return reduce(reducer, mapped_chunk)\n",
    "\n",
    "data_chunk = chunkity(list_list, 4)\n",
    "\n",
    "pool = Pool(4)\n",
    "\n",
    "mapped = pool.map(chunks_mapped, data_chunk)\n",
    "\n",
    "reduced = reduce(reducer, mapped)\n",
    "\n",
    "print(reduced)\n"
   ]
  }
 ],
 "metadata": {
  "interpreter": {
   "hash": "916dbcbb3f70747c44a77c7bcd40155683ae19c65e1c03b4aa3499c5328201f1"
  },
  "kernelspec": {
   "display_name": "Python 3.8.10 64-bit",
   "language": "python",
   "name": "python3"
  },
  "language_info": {
   "codemirror_mode": {
    "name": "ipython",
    "version": 3
   },
   "file_extension": ".py",
   "mimetype": "text/x-python",
   "name": "python",
   "nbconvert_exporter": "python",
   "pygments_lexer": "ipython3",
   "version": "3.8.10"
  },
  "orig_nbformat": 4
 },
 "nbformat": 4,
 "nbformat_minor": 2
}
